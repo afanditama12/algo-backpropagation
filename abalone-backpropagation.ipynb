{
 "cells": [
  {
   "cell_type": "markdown",
   "id": "7f567052",
   "metadata": {},
   "source": [
    "Algoritma Backpropagation pada data abalone"
   ]
  },
  {
   "cell_type": "code",
   "execution_count": 14,
   "id": "b9bdf107",
   "metadata": {},
   "outputs": [],
   "source": [
    "import pandas as pd # import pandas \n",
    "import numpy as np # import numpy\n",
    "from sklearn.model_selection import train_test_split # pembagian data\n",
    "from sklearn import preprocessing"
   ]
  },
  {
   "cell_type": "markdown",
   "id": "2b2ab516",
   "metadata": {},
   "source": [
    "Proses read / baca data abalone\n",
    "atur baris dan row dataset"
   ]
  },
  {
   "cell_type": "code",
   "execution_count": 15,
   "id": "9ca6ced9",
   "metadata": {},
   "outputs": [],
   "source": [
    "# buat dataset untuk membaca data abalone\n",
    "dataset = pd.read_csv(\"abalone.data\") \n",
    "# ubah dataset menjadi tuple\n",
    "(a,b)=dataset.shape\n",
    "\n",
    "# atur lokasi baris / kolom dari dataset atribut\n",
    "# [all, row at 1-9]\n",
    "X = dataset.iloc[:,0:b-1].values\n",
    "# atur lokasi baris / kolom dari dataset label/target\n",
    "# [all, all row at 1]\n",
    "y = dataset.iloc[:,b-1].values"
   ]
  },
  {
   "cell_type": "markdown",
   "id": "4b498213",
   "metadata": {},
   "source": [
    "proses preprocessing pada atribut dataset\n",
    "proses split dataset(atribut,target) menjadi data train dan data test"
   ]
  },
  {
   "cell_type": "code",
   "execution_count": 16,
   "id": "b9b6d01d",
   "metadata": {},
   "outputs": [],
   "source": [
    "# preprocessing dataset atribut\n",
    "X[:,0]=preprocessing.LabelEncoder().fit_transform(X[:,0])\n",
    "# split dataset atribut dan target\n",
    "X_train, X_test, y_train, y_test = train_test_split(X, y, test_size=0.2, random_state=42)"
   ]
  },
  {
   "cell_type": "code",
   "execution_count": 17,
   "id": "42a140ad",
   "metadata": {},
   "outputs": [],
   "source": [
    "# https://scikit-learn.org/stable/modules/neural_networks_supervised.html\n",
    "from sklearn.neural_network import MLPClassifier # import MLPClassifier dari sklearn.neural_network"
   ]
  },
  {
   "cell_type": "code",
   "execution_count": null,
   "id": "d8491527",
   "metadata": {},
   "outputs": [],
   "source": [
    "# https://scikit-learn.org/stable/modules/generated/sklearn.neural_network.MLPClassifier.html\n",
    "# set solver = lbfgs\n",
    "# set alpha = 0,0001 - 05\n",
    "# set hidden_layer_size = 3, 2\n",
    "# set random_state = 42\n",
    "clf = MLPClassifier(alpha=1e-05, hidden_layer_sizes=(300, 300), random_state=42, solver='adam')\n",
    "# ubah dataset training menjadi 2 array (supervisedlearning)\n",
    "clf.fit(X_train, y_train)"
   ]
  },
  {
   "cell_type": "code",
   "execution_count": null,
   "id": "1b730f26",
   "metadata": {},
   "outputs": [],
   "source": [
    "result = clf.predict(X_test)\n",
    "print(result)"
   ]
  },
  {
   "cell_type": "code",
   "execution_count": null,
   "id": "87110c88",
   "metadata": {},
   "outputs": [],
   "source": []
  }
 ],
 "metadata": {
  "kernelspec": {
   "display_name": "Python 3 (ipykernel)",
   "language": "python",
   "name": "python3"
  },
  "language_info": {
   "codemirror_mode": {
    "name": "ipython",
    "version": 3
   },
   "file_extension": ".py",
   "mimetype": "text/x-python",
   "name": "python",
   "nbconvert_exporter": "python",
   "pygments_lexer": "ipython3",
   "version": "3.9.12"
  }
 },
 "nbformat": 4,
 "nbformat_minor": 5
}
